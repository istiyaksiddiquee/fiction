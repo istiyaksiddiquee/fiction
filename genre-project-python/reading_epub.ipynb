{
 "cells": [
  {
   "cell_type": "code",
   "execution_count": 13,
   "metadata": {
    "tags": [
     "outputPrepend"
    ]
   },
   "outputs": [],
   "source": [
    "import ebooklib\n",
    "from ebooklib import epub\n",
    "\n",
    "book = epub.read_epub('pg100.epub')\n",
    "\n",
    "# Write-Overwrites \n",
    "file1 = open(\"converted_file.html\",\"w\")#write mode \n",
    "\n",
    "for doc in book.get_items_of_type(ebooklib.ITEM_DOCUMENT):\n",
    "    # print(type(doc.content.decode(\"utf-8\")))\n",
    "    file1.write(doc.content.decode(\"utf-8\")) \n",
    "\n",
    "file1.close() "
   ]
  },
  {
   "cell_type": "code",
   "execution_count": null,
   "metadata": {},
   "outputs": [],
   "source": [
    "from ebooklib import epub\n",
    "import ebooklib\n",
    "import os\n",
    "import nltk\n",
    "input_path = r\"C:\\Users\\jzeh\\Desktop\\Directory\"\n",
    "german_corpus = []\n",
    "book = epub.read_epub(os.path.join(input_path,'grimms-maerchen.epub'))\n",
    "for doc in book.get_items():\n",
    "    german_corpus += str(doc.content)"
   ]
  }
 ],
 "metadata": {
  "language_info": {
   "codemirror_mode": {
    "name": "ipython",
    "version": 3
   },
   "file_extension": ".py",
   "mimetype": "text/x-python",
   "name": "python",
   "nbconvert_exporter": "python",
   "pygments_lexer": "ipython3",
   "version": "3.7.7-final"
  },
  "orig_nbformat": 2,
  "kernelspec": {
   "name": "python",
   "display_name": "python"
  }
 },
 "nbformat": 4,
 "nbformat_minor": 2
}